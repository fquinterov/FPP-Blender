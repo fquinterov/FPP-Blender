{
  "nbformat": 4,
  "nbformat_minor": 0,
  "metadata": {
    "colab": {
      "name": "dfp-phase-analysis.ipynb",
      "provenance": [],
      "authorship_tag": "ABX9TyOZ9BM28el6TM5ZivjqIhVi",
      "include_colab_link": true
    },
    "kernelspec": {
      "name": "python3",
      "display_name": "Python 3"
    },
    "language_info": {
      "name": "python"
    }
  },
  "cells": [
    {
      "cell_type": "markdown",
      "metadata": {
        "id": "view-in-github",
        "colab_type": "text"
      },
      "source": [
        "<a href=\"https://colab.research.google.com/github/fquinterov/dfp-blender/blob/main/dfp_phase_analysis.ipynb\" target=\"_parent\"><img src=\"https://colab.research.google.com/assets/colab-badge.svg\" alt=\"Open In Colab\"/></a>"
      ]
    },
    {
      "cell_type": "markdown",
      "metadata": {
        "id": "CgcDFYDXBSTP"
      },
      "source": [
        "\n",
        "\n",
        "---\n",
        "## **Digital Fringe Projection (DFP) Phase Analysis**\n",
        "---\n",
        "Code by Fernando Quintero.  11/nov/2021\n"
      ]
    },
    {
      "cell_type": "markdown",
      "metadata": {
        "id": "5Zsyp3DOBqoc"
      },
      "source": [
        "\n",
        "\n",
        "This notebook contains contains the necessary code to perform a phase analysis of fringe images acquired in a digital fringe projection system.\n",
        "The method used to extract the phase is by general phase shifting, and then a temporal phase unwrapping by binary encoding is applied to obtain the absolute phase.\n",
        "\n"
      ]
    },
    {
      "cell_type": "markdown",
      "metadata": {
        "id": "PHofWn5xHFoL"
      },
      "source": [
        "##### **Table of Contents**\n",
        "1.   [Import libraries](#importlib)\n",
        "2.   [Phase extraction](#pextraction)\n",
        "3.   [Phase unwrapping](#punwrapping)"
      ]
    },
    {
      "cell_type": "markdown",
      "metadata": {
        "id": "_ae78bDDHWIm"
      },
      "source": [
        "#### **1. Import libraries** <a name=\"importlib\"></a>\n",
        "First we import the `opencv`, `matplotlib`, `numpy`, and `pandas` libraries. If you are not using **Google Colab** make sure you have them installed in your version of Python 3.x for the correct operation of the notebook."
      ]
    },
    {
      "cell_type": "code",
      "metadata": {
        "id": "eAYkduPLAiHq"
      },
      "source": [
        "import cv2 as cv\n",
        "import matplotlib.pyplot as plt\n",
        "import numpy as np \n",
        "import pandas as pd "
      ],
      "execution_count": null,
      "outputs": []
    },
    {
      "cell_type": "markdown",
      "metadata": {
        "id": "XtIw6VYpHmjg"
      },
      "source": [
        "#### **2. Phase extraction** <a name=\"pextraction\"></a>\n",
        "For phase extraction, the phase shifting technique is implemented in its general form. This technique allows to obtain the phase $\\phi(x,y)$ of a set of N images of projected sinusoidal fringes, knowing the phase shifts $\\varphi _k$ and the intensity $I_k$ in each pixel of the N images by means of the following expression for a k-th shift:\n",
        "\n",
        "$$\n",
        "I_k = a + bcos[\\phi(x,y) - \\varphi ₖ]\n",
        "$$\n",
        "\n",
        "The solution of the system is simplified in the following expression to calculate the phase $\\phi(x,y)$.:\n",
        "\n",
        "$$\n",
        "\\phi(x,y) = -arctan(\\frac{\\sum_{k=1}^{N} I_k sin(\\varphi_{k})}{\\sum_{k=1}^{N} I_k cos(\\varphi_{k})})\n",
        "$$\n",
        "\n",
        "The following script shows the example for a phase shifting of 5 fringe images. In the `pitch` variable the periods of the generated fringes must be entered, because the method for phase shifting is by binary coding which will be explained in the next section. Then with a for cycle the images with the phase shifts are read and then the expression to calculate the phase $\\phi(x,y)$ is applied.\n",
        "\n"
      ]
    },
    {
      "cell_type": "code",
      "metadata": {
        "id": "B0DUa6uHHlva"
      },
      "source": [
        "pitch=[1280,640,320,160,80,40,20]\n",
        "plen=np.size(pitch)\n",
        "wp=np.empty([plen,1024,1280,3])\n",
        "\n",
        "for i in range(plen):\n",
        "    i1 = np.double(cv.imread('../input/newtest/' + str(pitch[i]) + '_1.bmp'))\n",
        "    i2 = np.double(cv.imread('../input/newtest/' + str(pitch[i]) + '_2.bmp'))\n",
        "    i3 = np.double(cv.imread('../input/newtest/' + str(pitch[i]) + '_3.bmp'))\n",
        "    i4 = np.double(cv.imread('../input/newtest/' + str(pitch[i]) + '_4.bmp'))\n",
        "    i5 = np.double(cv.imread('../input/newtest/' + str(pitch[i]) + '_5.bmp'))\n",
        "\n",
        "    ICN = i1*np.cos(0)+i2*np.cos(2*np.pi/5)+i3*np.cos(4*np.pi/5)+i4*np.cos(6*np.pi/5)+i5*np.cos(8*np.pi/5)\n",
        "    ISN = i1*np.sin(0)+i2*np.sin(2*np.pi/5)+i3*np.sin(4*np.pi/5)+i4*np.sin(6*np.pi/5)+i5*np.sin(8*np.pi/5)\n",
        "    phase = -np.arctan2(ISN,ICN)\n",
        "    \n",
        "    cv.imwrite('./phase_' + str(pitch[i]) +  '.bmp',phase)\n",
        "    wp[i] = phase"
      ],
      "execution_count": null,
      "outputs": []
    },
    {
      "cell_type": "markdown",
      "metadata": {
        "id": "1C2RXQqxSuKf"
      },
      "source": [
        "#### **3. Phase unwrapping** <a name=\"punwrapping\"></a>\n",
        "\n",
        "Phase shifting technique recover a discontinuous phase φ(x, y), wrapped between (-π, π), with 2π discontinuities. For the 3D analysis it is necessary to obtain a continuous phase, which does not present ambiguities in the values. En este notebook binary coding time-phase unwrapping technique implemented which consists of projecting and capturing fringe patterns with base frequencies of base frequency 2 ($2^k$). The pseudocode for the implementation of the technique is shown below.\n",
        "\n",
        "> ##### **Algorithm 1: Unwrapping algorithm by binary coding.**\n",
        "**Input:** Discontinuous phases: $\\phi _k$\\\n",
        "**Output:** Absolute Continuous Phase: $\\Phi _a$\n",
        "1.   Initialize $\\phi _k$\n",
        "2.   **for k = 1:K do**\n",
        "3.   &nbsp;&nbsp;&nbsp;&nbsp;&nbsp;&nbsp; $\\Delta_{\\phi} = \\phi_k  - \\phi_{k-1}$\n",
        "4.   &nbsp;&nbsp;&nbsp;&nbsp;&nbsp;&nbsp; $\\Phi_a = \\Phi_a + \\Delta_{\\phi} + 2\\pi$ round$(\\frac{\\Phi_a - \\Delta_{\\phi}}{2\\pi})$\n",
        "5.   **end**\n",
        "\n",
        "And the script of the phase development of the time-temportal phase by geometrical constraints is as follows:"
      ]
    },
    {
      "cell_type": "code",
      "metadata": {
        "id": "y3Llma6qSuuA"
      },
      "source": [
        "ap = wp[0]\n",
        "for k in range(1,plen):\n",
        "    deltap = wp[k] - wp[k - 1]\n",
        "    ap = ap + deltap + 2*math.pi*(np.round_((ap - deltap)/(2*math.pi)))"
      ],
      "execution_count": null,
      "outputs": []
    }
  ]
}